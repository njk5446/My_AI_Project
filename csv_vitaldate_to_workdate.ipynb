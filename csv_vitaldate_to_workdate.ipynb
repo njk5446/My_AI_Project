{
 "cells": [
  {
   "cell_type": "code",
   "execution_count": 1,
   "metadata": {},
   "outputs": [],
   "source": [
    "import pandas as pd\n",
    "import os"
   ]
  },
  {
   "cell_type": "code",
   "execution_count": 5,
   "metadata": {},
   "outputs": [],
   "source": [
    "gyro_path = 'C:/날짜별_UserVitalSign(최종)/날짜별_UserGyro'\n",
    "\n",
    "vital_path = 'C:/날짜별_UserVitalSign(최종)/날짜별_UserVitalSign'"
   ]
  },
  {
   "cell_type": "markdown",
   "metadata": {},
   "source": [
    "##### Gyro 데이터 WorkDate - VitalDate 통합"
   ]
  },
  {
   "cell_type": "code",
   "execution_count": 6,
   "metadata": {},
   "outputs": [],
   "source": [
    "for filename in os.listdir(gyro_path):\n",
    "    if filename.endswith('.csv'):\n",
    "        # CSV 파일 읽기\n",
    "        file_path = os.path.join(gyro_path, filename)\n",
    "        df = pd.read_csv(file_path)\n",
    "\n",
    "        # VitalDate를 datetime으로 변환하고, '년-월-일' 형식으로 WorkDate에 저장\n",
    "        df['WorkDate'] = pd.to_datetime(df['VitalDate']).dt.strftime('%Y-%m-%d')\n",
    "\n",
    "        # registerDate 컬럼 삭제\n",
    "        df.drop(columns=['RegisterDate'], inplace=True)\n",
    "\n",
    "        # 수정된 DataFrame을 원래 파일에 덮어쓰기\n",
    "        df.to_csv(file_path, index=False)"
   ]
  },
  {
   "cell_type": "markdown",
   "metadata": {},
   "source": [
    "##### UserVitalSign 컬럼 삭제"
   ]
  },
  {
   "cell_type": "code",
   "execution_count": 4,
   "metadata": {},
   "outputs": [],
   "source": [
    "for filename in os.listdir(vital_path):\n",
    "    if filename.endswith('.csv'):\n",
    "        # CSV 파일 읽기\n",
    "        file_path = os.path.join(vital_path, filename)\n",
    "        df = pd.read_csv(file_path)\n",
    "\n",
    "        df.drop(columns=['AgencyCode', 'IsWear', 'APMAC', 'DeviceMAC', 'RegisterEmpID', 'ModifyDate', 'ModifyEmpID'], inplace=True)\n",
    "\n",
    "        # 수정된 DataFrame을 원래 파일에 덮어쓰기\n",
    "        df.to_csv(file_path, index=False)"
   ]
  },
  {
   "cell_type": "markdown",
   "metadata": {},
   "source": [
    "##### csv 통합하고 다시 일자별로 분류하는 코드 작성 (cmd로 합치기)"
   ]
  }
 ],
 "metadata": {
  "kernelspec": {
   "display_name": "Python 3",
   "language": "python",
   "name": "python3"
  },
  "language_info": {
   "codemirror_mode": {
    "name": "ipython",
    "version": 3
   },
   "file_extension": ".py",
   "mimetype": "text/x-python",
   "name": "python",
   "nbconvert_exporter": "python",
   "pygments_lexer": "ipython3",
   "version": "3.12.6"
  }
 },
 "nbformat": 4,
 "nbformat_minor": 2
}
